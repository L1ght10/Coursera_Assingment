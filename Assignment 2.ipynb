{
 "cells": [
  {
   "cell_type": "markdown",
   "id": "bc02bcc4",
   "metadata": {},
   "source": [
    "# My Jupyter Notebook Notebook on IBM Watson Studio"
   ]
  },
  {
   "cell_type": "markdown",
   "id": "8facb9a1",
   "metadata": {},
   "source": [
    "### Deepak G"
   ]
  },
  {
   "cell_type": "markdown",
   "id": "39dbb406",
   "metadata": {},
   "source": [
    "#### _I am fascinated by Data science because of the insights that we can gain from it._"
   ]
  },
  {
   "cell_type": "markdown",
   "id": "b0fd970e",
   "metadata": {},
   "source": [
    "##### This is a code to add two numbers"
   ]
  },
  {
   "cell_type": "code",
   "execution_count": 1,
   "id": "3a92c785",
   "metadata": {},
   "outputs": [
    {
     "name": "stdout",
     "output_type": "stream",
     "text": [
      "5\n"
     ]
    }
   ],
   "source": [
    "a = 2\n",
    "b = 3\n",
    "print(a+b)"
   ]
  },
  {
   "cell_type": "markdown",
   "id": "d64c0da4",
   "metadata": {},
   "source": [
    "***\n",
    "- Bullet 1\n",
    "- Bullet 2\n",
    "- Bullet 3\n",
    "***\n",
    "\n",
    "1. Num1\n",
    "1. Num2\n",
    "1. Num3\n",
    "***\n",
    "\n",
    "__[url insert](https://github.com/L1ght10)__\n",
    "***\n",
    "\n",
    "<img src=\"https://i.pinimg.com/originals/43/57/ce/4357ceca1f624dafeb5797eb6f6f05d3.png\" alt  = \"chibi\" title = \"Image URL\"/>\n",
    "***"
   ]
  },
  {
   "cell_type": "code",
   "execution_count": null,
   "id": "56d11d39",
   "metadata": {},
   "outputs": [],
   "source": []
  }
 ],
 "metadata": {
  "kernelspec": {
   "display_name": "Python 3 (ipykernel)",
   "language": "python",
   "name": "python3"
  },
  "language_info": {
   "codemirror_mode": {
    "name": "ipython",
    "version": 3
   },
   "file_extension": ".py",
   "mimetype": "text/x-python",
   "name": "python",
   "nbconvert_exporter": "python",
   "pygments_lexer": "ipython3",
   "version": "3.9.13"
  }
 },
 "nbformat": 4,
 "nbformat_minor": 5
}
