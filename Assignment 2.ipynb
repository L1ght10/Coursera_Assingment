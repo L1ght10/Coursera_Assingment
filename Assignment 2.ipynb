{
 "cells": [
  {
   "cell_type": "markdown",
   "id": "bc02bcc4",
   "metadata": {},
   "source": [
    "# My Jupyter Notebook Assignment"
   ]
  },
  {
   "cell_type": "markdown",
   "id": "8facb9a1",
   "metadata": {},
   "source": [
    "### Deepak G"
   ]
  },
  {
   "cell_type": "markdown",
   "id": "39dbb406",
   "metadata": {},
   "source": [
    "#### I am fascinated by Data science because of the insights that we can gain from it."
   ]
  },
  {
   "cell_type": "markdown",
   "id": "b0fd970e",
   "metadata": {},
   "source": [
    "##### This is a test code"
   ]
  },
  {
   "cell_type": "code",
   "execution_count": 1,
   "id": "3a92c785",
   "metadata": {},
   "outputs": [
    {
     "name": "stdout",
     "output_type": "stream",
     "text": [
      "5\n"
     ]
    }
   ],
   "source": [
    "a = 2\n",
    "b = 3\n",
    "print(a+b)"
   ]
  }
 ],
 "metadata": {
  "kernelspec": {
   "display_name": "Python 3 (ipykernel)",
   "language": "python",
   "name": "python3"
  },
  "language_info": {
   "codemirror_mode": {
    "name": "ipython",
    "version": 3
   },
   "file_extension": ".py",
   "mimetype": "text/x-python",
   "name": "python",
   "nbconvert_exporter": "python",
   "pygments_lexer": "ipython3",
   "version": "3.9.13"
  }
 },
 "nbformat": 4,
 "nbformat_minor": 5
}
